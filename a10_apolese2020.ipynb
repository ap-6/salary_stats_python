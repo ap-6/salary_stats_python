{
  "nbformat": 4,
  "nbformat_minor": 0,
  "metadata": {
    "colab": {
      "name": "a10_apolese2020.ipynb",
      "provenance": [],
      "collapsed_sections": [],
      "toc_visible": true
    },
    "kernelspec": {
      "display_name": "Python [default]",
      "language": "python",
      "name": "python3"
    },
    "language_info": {
      "codemirror_mode": {
        "name": "ipython",
        "version": 3
      },
      "file_extension": ".py",
      "mimetype": "text/x-python",
      "name": "python",
      "nbconvert_exporter": "python",
      "pygments_lexer": "ipython3",
      "version": "3.6.8"
    }
  },
  "cells": [
    {
      "cell_type": "markdown",
      "metadata": {
        "id": "p78j872pOKTZ"
      },
      "source": [
        "# COP 4045 - Python Programming - Dr. Marques - Summer 2021"
      ]
    },
    {
      "cell_type": "markdown",
      "metadata": {
        "id": "NYmNMHGLOKTa"
      },
      "source": [
        "# Assignment 10: Introducing the Python Data Science stack\n",
        "## \n",
        "COP 4045 - Python Programming - Dr. Oge Marques - FAU - Summer 2021\n",
        "_________________\n",
        "Name:     Anthony Polese\n",
        "\n",
        "Z Number: Z23582157\n",
        "\n",
        "Due:      2 August 2021\n",
        "\n",
        "Note:     Everything done by Anthony Polese\n",
        "_________________"
      ]
    },
    {
      "cell_type": "markdown",
      "metadata": {
        "id": "9UMnsRndOKTb"
      },
      "source": [
        "### Goals \n",
        "\n",
        "- To acquire a basic understanding of the Python \"data science stack\" (NumPy, Pandas, Matplotlib, Scikit-Learn).\n",
        "- To have an early experience of manipulating, summarizing, and visualizing small datasets. \n",
        "- To demonstrate the ability to write Python code to answer questions and test hypotheses based on the contents of those datasets.\n",
        "- To learn how to implement several different machine learning classification models in Python \n",
        "- To learn how to test a model and produce a set of plots and performance measures"
      ]
    },
    {
      "cell_type": "markdown",
      "metadata": {
        "id": "B0rEAT7MOKTb"
      },
      "source": [
        "### Instructions\n",
        "\n",
        "- This assignment is structured in two parts.\n",
        "- For each part, there will be some Python code to be written and questions to be answered.\n",
        "- At the end, you should export your notebook to PDF format; it will \"automagically\" become your report.\n",
        "- Submit the report (PDF), notebook (.ipynb file), and the link to the \"live\" version of your solution on Google Colaboratory via Canvas.\n",
        "- The number of points is indicated next to each part. They add up to 100.\n",
        "- There are additional (10 points worth of) bonus items, which are, of course optional."
      ]
    },
    {
      "cell_type": "markdown",
      "metadata": {
        "id": "qiufouQn6OD9"
      },
      "source": [
        "### Important\n",
        "\n",
        "- It is OK to attempt the bonus points, but please **do not overdo it!** \n",
        "- Remember: this is an early exercise in exploring datasets; learning the syntax and \"tricks\" of Python, Jupyter notebooks, Numpy, Pandas, and Matplotlib; and writing code to use data to test simple hypotheses, produce answers to simple questions, or make predictions.\n"
      ]
    },
    {
      "cell_type": "markdown",
      "metadata": {
        "id": "UgM90DRHHHdK"
      },
      "source": [
        "---------\n",
        "### Imports + Google Drive"
      ]
    },
    {
      "cell_type": "code",
      "metadata": {
        "id": "5uC7gGB7H_Kz"
      },
      "source": [
        "# Imports\n",
        "import numpy as np\n",
        "import pandas as pd\n",
        "from pandas import DataFrame, Series\n",
        "import matplotlib.pyplot as plt\n",
        "from scipy.stats import pearsonr\n",
        "from __future__ import division\n",
        "import seaborn as sns\n",
        "sns.set(style='ticks', palette='Set2')\n",
        "%matplotlib inline"
      ],
      "execution_count": 1,
      "outputs": []
    },
    {
      "cell_type": "code",
      "metadata": {
        "id": "B2qHzn_CG8rZ"
      },
      "source": [
        "# OPTIONAL \n",
        "# Mount Google Drive\n",
        "# from google.colab import drive\n",
        "# drive.mount('/content/drive')"
      ],
      "execution_count": 2,
      "outputs": []
    },
    {
      "cell_type": "markdown",
      "metadata": {
        "id": "G2J9o001OKTx"
      },
      "source": [
        "-------------------\n",
        "## Part 1: EDA"
      ]
    },
    {
      "cell_type": "markdown",
      "metadata": {
        "id": "T1EXw38-OKTy"
      },
      "source": [
        "The Python code below will load a dataset containing the salaries and demographic data of more than 1000 employees of a hypothetical company, available in the file *salaries.csv*, which is a simple comma-separated list of labels and values."
      ]
    },
    {
      "cell_type": "code",
      "metadata": {
        "id": "lv1MGinjOKTz",
        "colab": {
          "resources": {
            "http://localhost:8080/nbextensions/google.colab/files.js": {
              "data": "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",
              "ok": true,
              "headers": [
                [
                  "content-type",
                  "application/javascript"
                ]
              ],
              "status": 200,
              "status_text": ""
            }
          },
          "base_uri": "https://localhost:8080/",
          "height": 73
        },
        "outputId": "e87cb7a2-b48d-424f-c863-a74a40ccd45f"
      },
      "source": [
        "#salaries = pd.read_csv('/content/drive/My Drive/Colab Notebooks/data/salaries.csv') \n",
        "#salaries = pd.read_csv('./data/salaries.csv') \n",
        "\n",
        "from google.colab import files\n",
        "uploaded = files.upload()\n",
        "import io\n",
        "salaries = pd.read_csv(io.StringIO(uploaded['salaries.csv'].decode('utf-8')))"
      ],
      "execution_count": 3,
      "outputs": [
        {
          "output_type": "display_data",
          "data": {
            "text/html": [
              "\n",
              "     <input type=\"file\" id=\"files-491d8309-4b19-4d95-8032-ac64bacffdb8\" name=\"files[]\" multiple disabled\n",
              "        style=\"border:none\" />\n",
              "     <output id=\"result-491d8309-4b19-4d95-8032-ac64bacffdb8\">\n",
              "      Upload widget is only available when the cell has been executed in the\n",
              "      current browser session. Please rerun this cell to enable.\n",
              "      </output>\n",
              "      <script src=\"/nbextensions/google.colab/files.js\"></script> "
            ],
            "text/plain": [
              "<IPython.core.display.HTML object>"
            ]
          },
          "metadata": {
            "tags": []
          }
        },
        {
          "output_type": "stream",
          "text": [
            "Saving salaries.csv to salaries.csv\n"
          ],
          "name": "stdout"
        }
      ]
    },
    {
      "cell_type": "code",
      "metadata": {
        "colab": {
          "base_uri": "https://localhost:8080/"
        },
        "id": "8zuOLlCUoqnk",
        "outputId": "0f605341-5e75-4783-fd5a-8cec30a08e1a"
      },
      "source": [
        "print(salaries.shape)\n",
        "print(salaries.count())"
      ],
      "execution_count": 4,
      "outputs": [
        {
          "output_type": "stream",
          "text": [
            "(1192, 6)\n",
            "earn      1192\n",
            "height    1192\n",
            "sex       1192\n",
            "ed        1192\n",
            "age       1192\n",
            "race      1192\n",
            "dtype: int64\n"
          ],
          "name": "stdout"
        }
      ]
    },
    {
      "cell_type": "code",
      "metadata": {
        "id": "R87GQz-ILPv4",
        "colab": {
          "base_uri": "https://localhost:8080/",
          "height": 203
        },
        "outputId": "c63b732b-4c59-4db0-a6a5-11c7e059d172"
      },
      "source": [
        "salaries.head()"
      ],
      "execution_count": 5,
      "outputs": [
        {
          "output_type": "execute_result",
          "data": {
            "text/html": [
              "<div>\n",
              "<style scoped>\n",
              "    .dataframe tbody tr th:only-of-type {\n",
              "        vertical-align: middle;\n",
              "    }\n",
              "\n",
              "    .dataframe tbody tr th {\n",
              "        vertical-align: top;\n",
              "    }\n",
              "\n",
              "    .dataframe thead th {\n",
              "        text-align: right;\n",
              "    }\n",
              "</style>\n",
              "<table border=\"1\" class=\"dataframe\">\n",
              "  <thead>\n",
              "    <tr style=\"text-align: right;\">\n",
              "      <th></th>\n",
              "      <th>earn</th>\n",
              "      <th>height</th>\n",
              "      <th>sex</th>\n",
              "      <th>ed</th>\n",
              "      <th>age</th>\n",
              "      <th>race</th>\n",
              "    </tr>\n",
              "  </thead>\n",
              "  <tbody>\n",
              "    <tr>\n",
              "      <th>0</th>\n",
              "      <td>50000.0</td>\n",
              "      <td>74.424439</td>\n",
              "      <td>male</td>\n",
              "      <td>16</td>\n",
              "      <td>45</td>\n",
              "      <td>white</td>\n",
              "    </tr>\n",
              "    <tr>\n",
              "      <th>1</th>\n",
              "      <td>60000.0</td>\n",
              "      <td>65.537543</td>\n",
              "      <td>female</td>\n",
              "      <td>16</td>\n",
              "      <td>58</td>\n",
              "      <td>white</td>\n",
              "    </tr>\n",
              "    <tr>\n",
              "      <th>2</th>\n",
              "      <td>30000.0</td>\n",
              "      <td>63.629198</td>\n",
              "      <td>female</td>\n",
              "      <td>16</td>\n",
              "      <td>29</td>\n",
              "      <td>white</td>\n",
              "    </tr>\n",
              "    <tr>\n",
              "      <th>3</th>\n",
              "      <td>50000.0</td>\n",
              "      <td>63.108562</td>\n",
              "      <td>female</td>\n",
              "      <td>16</td>\n",
              "      <td>91</td>\n",
              "      <td>other</td>\n",
              "    </tr>\n",
              "    <tr>\n",
              "      <th>4</th>\n",
              "      <td>51000.0</td>\n",
              "      <td>63.402484</td>\n",
              "      <td>female</td>\n",
              "      <td>17</td>\n",
              "      <td>39</td>\n",
              "      <td>white</td>\n",
              "    </tr>\n",
              "  </tbody>\n",
              "</table>\n",
              "</div>"
            ],
            "text/plain": [
              "      earn     height     sex  ed  age   race\n",
              "0  50000.0  74.424439    male  16   45  white\n",
              "1  60000.0  65.537543  female  16   58  white\n",
              "2  30000.0  63.629198  female  16   29  white\n",
              "3  50000.0  63.108562  female  16   91  other\n",
              "4  51000.0  63.402484  female  17   39  white"
            ]
          },
          "metadata": {
            "tags": []
          },
          "execution_count": 5
        }
      ]
    },
    {
      "cell_type": "code",
      "metadata": {
        "id": "2fmIimSv3RfT",
        "colab": {
          "base_uri": "https://localhost:8080/",
          "height": 296
        },
        "outputId": "01d6cfb8-c885-433b-a9b4-9e0798aab444"
      },
      "source": [
        "salaries.describe()"
      ],
      "execution_count": 6,
      "outputs": [
        {
          "output_type": "execute_result",
          "data": {
            "text/html": [
              "<div>\n",
              "<style scoped>\n",
              "    .dataframe tbody tr th:only-of-type {\n",
              "        vertical-align: middle;\n",
              "    }\n",
              "\n",
              "    .dataframe tbody tr th {\n",
              "        vertical-align: top;\n",
              "    }\n",
              "\n",
              "    .dataframe thead th {\n",
              "        text-align: right;\n",
              "    }\n",
              "</style>\n",
              "<table border=\"1\" class=\"dataframe\">\n",
              "  <thead>\n",
              "    <tr style=\"text-align: right;\">\n",
              "      <th></th>\n",
              "      <th>earn</th>\n",
              "      <th>height</th>\n",
              "      <th>ed</th>\n",
              "      <th>age</th>\n",
              "    </tr>\n",
              "  </thead>\n",
              "  <tbody>\n",
              "    <tr>\n",
              "      <th>count</th>\n",
              "      <td>1192.000000</td>\n",
              "      <td>1192.000000</td>\n",
              "      <td>1192.000000</td>\n",
              "      <td>1192.000000</td>\n",
              "    </tr>\n",
              "    <tr>\n",
              "      <th>mean</th>\n",
              "      <td>23154.773490</td>\n",
              "      <td>66.915154</td>\n",
              "      <td>13.504195</td>\n",
              "      <td>41.378356</td>\n",
              "    </tr>\n",
              "    <tr>\n",
              "      <th>std</th>\n",
              "      <td>19472.296925</td>\n",
              "      <td>3.853968</td>\n",
              "      <td>2.420175</td>\n",
              "      <td>15.867428</td>\n",
              "    </tr>\n",
              "    <tr>\n",
              "      <th>min</th>\n",
              "      <td>200.000000</td>\n",
              "      <td>57.503219</td>\n",
              "      <td>3.000000</td>\n",
              "      <td>18.000000</td>\n",
              "    </tr>\n",
              "    <tr>\n",
              "      <th>25%</th>\n",
              "      <td>10000.000000</td>\n",
              "      <td>64.009746</td>\n",
              "      <td>12.000000</td>\n",
              "      <td>29.000000</td>\n",
              "    </tr>\n",
              "    <tr>\n",
              "      <th>50%</th>\n",
              "      <td>20000.000000</td>\n",
              "      <td>66.451265</td>\n",
              "      <td>13.000000</td>\n",
              "      <td>38.000000</td>\n",
              "    </tr>\n",
              "    <tr>\n",
              "      <th>75%</th>\n",
              "      <td>30000.000000</td>\n",
              "      <td>69.848100</td>\n",
              "      <td>16.000000</td>\n",
              "      <td>51.000000</td>\n",
              "    </tr>\n",
              "    <tr>\n",
              "      <th>max</th>\n",
              "      <td>200000.000000</td>\n",
              "      <td>77.051282</td>\n",
              "      <td>18.000000</td>\n",
              "      <td>91.000000</td>\n",
              "    </tr>\n",
              "  </tbody>\n",
              "</table>\n",
              "</div>"
            ],
            "text/plain": [
              "                earn       height           ed          age\n",
              "count    1192.000000  1192.000000  1192.000000  1192.000000\n",
              "mean    23154.773490    66.915154    13.504195    41.378356\n",
              "std     19472.296925     3.853968     2.420175    15.867428\n",
              "min       200.000000    57.503219     3.000000    18.000000\n",
              "25%     10000.000000    64.009746    12.000000    29.000000\n",
              "50%     20000.000000    66.451265    13.000000    38.000000\n",
              "75%     30000.000000    69.848100    16.000000    51.000000\n",
              "max    200000.000000    77.051282    18.000000    91.000000"
            ]
          },
          "metadata": {
            "tags": []
          },
          "execution_count": 6
        }
      ]
    },
    {
      "cell_type": "markdown",
      "metadata": {
        "id": "-bvyTbsZOKT4"
      },
      "source": [
        "--------------------\n",
        "### Summary statistics and correlations\n",
        "\n",
        "Let's explore the dataset by plotting some graphs and displaying summary statistics. \n",
        "\n",
        "The code below should display:\n",
        "- Min, max, average, and median salary (global)\n",
        "- A histogram of salaries\n",
        "- A scatterplot correlating salaries and years of education\n",
        "- The (Pearson) correlation coefficient between the two variables.\n",
        "\n",
        "This should help us get started."
      ]
    },
    {
      "cell_type": "code",
      "metadata": {
        "id": "jai0zaQ1OKT5",
        "colab": {
          "base_uri": "https://localhost:8080/"
        },
        "outputId": "c0fca5f7-ba4d-4716-eda6-66e64c961550"
      },
      "source": [
        "salary = np.array(salaries['earn'])\n",
        "print(\"--- Salary statistics ---\")\n",
        "print(\"Minimum salary (global): ${:6.2f}\".format(np.min(salary)))\n",
        "print(\"Maximum salary (global): ${:6.2f}\".format(np.max(salary)))\n",
        "print(\"Average salary (global): ${:6.2f}\".format(np.mean(salary)))\n",
        "print(\"Median  salary (global): ${:6.2f}\".format(np.median(salary)))"
      ],
      "execution_count": 7,
      "outputs": [
        {
          "output_type": "stream",
          "text": [
            "--- Salary statistics ---\n",
            "Minimum salary (global): $200.00\n",
            "Maximum salary (global): $200000.00\n",
            "Average salary (global): $23154.77\n",
            "Median  salary (global): $20000.00\n"
          ],
          "name": "stdout"
        }
      ]
    },
    {
      "cell_type": "code",
      "metadata": {
        "id": "MQSn8R8MOKT6",
        "colab": {
          "base_uri": "https://localhost:8080/",
          "height": 301
        },
        "outputId": "646244bb-3116-484b-bbe0-d4072e430f6f"
      },
      "source": [
        "plt.hist(salary)\n",
        "plt.title('Salary Distribution')\n",
        "plt.xlabel('Salary')\n",
        "plt.ylabel('Number of Employees');"
      ],
      "execution_count": 8,
      "outputs": [
        {
          "output_type": "display_data",
          "data": {
            "image/png": "[encoded data removed]",
            "text/plain": [
              "<Figure size 432x288 with 1 Axes>"
            ]
          },
          "metadata": {
            "tags": [],
            "needs_background": "light"
          }
        }
      ]
    },
    {
      "cell_type": "code",
      "metadata": {
        "id": "DIcrOnZ4OKT8",
        "colab": {
          "base_uri": "https://localhost:8080/",
          "height": 301
        },
        "outputId": "d33cff2c-f101-4464-ab8d-c55d802a4eee"
      },
      "source": [
        "years = np.array(salaries['ed'])\n",
        "plt.title('Salary vs. Education Level')\n",
        "plt.ylabel('Salary')\n",
        "plt.xlabel('Years of education');\n",
        "plt.scatter(years, salary, alpha=0.5)\n",
        "plt.show()"
      ],
      "execution_count": 9,
      "outputs": [
        {
          "output_type": "display_data",
          "data": {
            "image/png": "[encoded data removed]",
            "text/plain": [
              "<Figure size 432x288 with 1 Axes>"
            ]
          },
          "metadata": {
            "tags": [],
            "needs_background": "light"
          }
        }
      ]
    },
    {
      "cell_type": "code",
      "metadata": {
        "id": "fllJH1rfOKT_",
        "colab": {
          "base_uri": "https://localhost:8080/"
        },
        "outputId": "e210f64d-4e4a-43ef-ae9a-ca72a61db3f0"
      },
      "source": [
        "# Compute Pearson coefficient\n",
        "corr, _ = pearsonr(salary,years)\n",
        "print('Correlation coefficient: ',corr)"
      ],
      "execution_count": 10,
      "outputs": [
        {
          "output_type": "stream",
          "text": [
            "Correlation coefficient:  0.3399765246894847\n"
          ],
          "name": "stdout"
        }
      ]
    },
    {
      "cell_type": "markdown",
      "metadata": {
        "id": "-n2_sL4UOKUA"
      },
      "source": [
        "The [Pearson correlation coefficient](https://en.wikipedia.org/wiki/Pearson_correlation_coefficient) (a value between -1 and 1) can be used to summarize the strength of the linear relationship between two data samples.\n",
        "\n",
        "A simplified way to interpret the result is (see table 1 [here](https://www.ncbi.nlm.nih.gov/pmc/articles/PMC6107969/)):\n",
        "- A value of 0 means no correlation\n",
        "- Values below -0.5 or above 0.5 indicates a notable (negative/positive) correlation"
      ]
    },
    {
      "cell_type": "markdown",
      "metadata": {
        "id": "oVXf-zPyOKUB"
      },
      "source": [
        "### 1.1 Your turn! (10-14 points)\n",
        "\n",
        "Write code to:\n",
        "\n",
        "1. Display the total headcount and the number (and %) of male and female employees. (2 pts)\n",
        "2. Compute and display the min, max, average, and median salary *per gender*. (8 pts)\n",
        "3. (OPTIONAL) Plot meaningful graphs that could provide insight into the gender inequality (*if any is present*) associated with the salaries in the company. (<= 4 bonus points)\n"
      ]
    },
    {
      "cell_type": "code",
      "metadata": {
        "id": "PyzLB_FILa6y",
        "colab": {
          "base_uri": "https://localhost:8080/"
        },
        "outputId": "49253c51-f7d7-471d-992d-52d131e41e61"
      },
      "source": [
        "#task 1\n",
        "gender_array = salaries['sex']\n",
        "\n",
        "#total headcount\n",
        "total_count = salaries.shape[0]\n",
        "#gender headcount\n",
        "female_count      = sum(gender_array == \"female\")\n",
        "male_count        = sum(gender_array == \"male\")\n",
        "female_percentage = (female_count/total_count) * 100\n",
        "male_percentage   = (male_count/total_count) * 100\n",
        "\n",
        "#display results\n",
        "print(\"Headcount:                   \", total_count)\n",
        "print(\"Number of female workers:    \", female_count)\n",
        "print(\"Number of male workers:      \", male_count)\n",
        "print(\"Percentage of female workers: {:.2f}%\".format(female_percentage))\n",
        "print(\"Percentage of male workers:   {:.2f}%\".format(male_percentage))\n",
        "\n",
        "#task 2\n",
        "female_array = salaries[salaries['sex'] == 'female'] #records for all female employees\n",
        "male_array   = salaries[salaries['sex'] == 'male']   #records for all male employees\n",
        "\n",
        "female_salary_array = np.array(female_array['earn']) #array of salaries of female employees\n",
        "male_salary_array   = np.array(male_array['earn'])   #array of salaries of male employees\n",
        "\n",
        "female_salary_stats_dict = {'min':     np.min(female_salary_array),\n",
        "                            'max':     np.max(female_salary_array),\n",
        "                            'average': np.mean(female_salary_array),\n",
        "                            'median':  np.median(female_salary_array)}\n",
        "male_salary_stats_dict =   {'min':     np.min(male_salary_array),\n",
        "                            'max':     np.max(male_salary_array),\n",
        "                            'average': np.mean(male_salary_array),\n",
        "                            'median':  np.median(male_salary_array)}\n",
        "salary_stats_dict =        {'female':  female_salary_stats_dict,\n",
        "                            'male':    male_salary_stats_dict}\n",
        "\n",
        "#display results\n",
        "print(\"\\n\")\n",
        "print(\"Female salary statistics: \")\n",
        "print(\"-\" * 30)\n",
        "print(\"Minimum: {:.2f}\".format(salary_stats_dict['female']['min']))\n",
        "print(\"Maximum: {:.2f}\".format(salary_stats_dict['female']['max']))\n",
        "print(\"Average: {:.2f}\".format(salary_stats_dict['female']['average']))\n",
        "print(\"Median:  {:.2f}\".format(salary_stats_dict['female']['median']))\n",
        "print(\"\\n\")\n",
        "print(\"Male salary statistics: \")\n",
        "print(\"-\" * 30)\n",
        "print(\"Minimum: {:.2f}\".format(salary_stats_dict['male']['min']))\n",
        "print(\"Maximum: {:.2f}\".format(salary_stats_dict['male']['max']))\n",
        "print(\"Average: {:.2f}\".format(salary_stats_dict['male']['average']))\n",
        "print(\"Median:  {:.2f}\".format(salary_stats_dict['male']['median']))"
      ],
      "execution_count": 11,
      "outputs": [
        {
          "output_type": "stream",
          "text": [
            "Headcount:                    1192\n",
            "Number of female workers:     687\n",
            "Number of male workers:       505\n",
            "Percentage of female workers: 57.63%\n",
            "Percentage of male workers:   42.37%\n",
            "\n",
            "\n",
            "Female salary statistics: \n",
            "------------------------------\n",
            "Minimum: 200.00\n",
            "Maximum: 123000.00\n",
            "Average: 18280.20\n",
            "Median:  15000.00\n",
            "\n",
            "\n",
            "Male salary statistics: \n",
            "------------------------------\n",
            "Minimum: 1000.00\n",
            "Maximum: 200000.00\n",
            "Average: 29786.13\n",
            "Median:  25000.00\n"
          ],
          "name": "stdout"
        }
      ]
    },
    {
      "cell_type": "markdown",
      "metadata": {
        "id": "2MeVVzBfLeV5"
      },
      "source": [
        "*Enter your text here*"
      ]
    },
    {
      "cell_type": "markdown",
      "metadata": {
        "id": "34cWPF_jOKUQ"
      },
      "source": [
        "--------------------\n",
        "### Signs of inequality\n",
        "\n",
        "As you can possibly tell by now, this dataset may help us test hypotheses and answer questions related to possible sources of inequality associated with the salary distribution: gender, age, race, etc.. \n",
        "\n",
        "Let's assume, for the sake of argument, that the number of years of education should correlate well with a person's salary (this is clearly a weak argument and the plot and Pearson correlation coefficient computation above suggests that this is *not* the case) and that other suspiciously high (positive or negative) correlations could be interpreted as a sign of inequality.\n",
        "\n",
        "See Notebooks 1 and 2 from [my ICMLA 2019 tutorial with Christian Garbin](https://github.com/fau-masters-collected-works-cgarbin/ieee-icmla-2019-data-science-tutorial) for additional insights."
      ]
    },
    {
      "cell_type": "markdown",
      "metadata": {
        "id": "R1UaYIHoOKUR"
      },
      "source": [
        "---------------------\n",
        "### Hypotheses H1, H2, H3\n",
        "At this point, we will formulate 3 different hypotheses that might suggest that the salary distribution is biased by factors such as age, gender, or race:\n",
        "\n",
        "- H1: Older employees are paid less (i.e., ageism)\n",
        "- H2: Female employees are paid less (i.e., gender bias)\n",
        "- H3: Non-whites are paid less (i.e, race bias)."
      ]
    },
    {
      "cell_type": "markdown",
      "metadata": {
        "id": "n8odBiXoOKUR"
      },
      "source": [
        "### 1.2 Your turn! (24-30 points)\n",
        "\n",
        "Write Python code to test hypotheses H1, H2, and H3 (and some text to explain whether they were confirmed or not). \n",
        "\n",
        "Feel free to (also) use plots, but make your code independent of a human being interpreting those plots. \n",
        "\n",
        "**Weight**: 24 pts, i.e., 8 pts per hypothesis. \n",
        "Up to 6 bonus points for insightful additional hypotheses, code, and/or comments.  "
      ]
    },
    {
      "cell_type": "markdown",
      "metadata": {
        "id": "rkv4wSP1KeqR"
      },
      "source": [
        "H1:"
      ]
    },
    {
      "cell_type": "markdown",
      "metadata": {
        "id": "zjo4_bGDTh4o"
      },
      "source": [
        "**Results:**\n",
        "The data does suggest some form of age discrimination, as there does seem to be some degree of correlation between age and salary; however, according to the Pearson correlation coefficient (0.3190), it is a weak correlation.\n",
        "Nonetheless, looking at the table does show pretty clearly that the average salary seems to peak around 48 to 57, and then starts to fall back down, despite the fact that each age group has, on average, the same years of education.\n",
        "\n",
        "**Notes on the data:**\n",
        "It should be noted that modifications were made to the data to remove outliers that could skew the analysis.\n",
        "People who make less than $10,000/year, people over the age of 77, and people with under 12 years of education were all removed from the data.\n",
        "\n",
        "The salary cutoff was instated to ensure that the employees we analyze are full-time employees. Assuming that someone makes the federal minimum wage of 7.25/hr and worked 5 days a week, 4 weeks a month, 12 months a year, they would make $13920 per year, so this should leave enough room to ensure that all full-time employees are included but no one else.\n",
        "\n",
        "The age cutoff was instated because there are simply not a lot of workers above the age of 77, so when looking at the data for those specific age groups, the analyses would not be very meaningful because the sample pool is so small.\n",
        "\n",
        "The education cutoff was instated to 12 years of education is generally required in most countries. Any amount less is an outlier or a typo."
      ]
    },
    {
      "cell_type": "code",
      "metadata": {
        "id": "bh7h9mfsLBMw",
        "colab": {
          "base_uri": "https://localhost:8080/"
        },
        "outputId": "b8dc2381-1570-44f8-df56-0087912cd64d"
      },
      "source": [
        "#cutoff values (justified in text above)\n",
        "salary_cutoff = 10000 \n",
        "age_cutoff    = 77\n",
        "ed_cutoff     = 12\n",
        "#removing records below salary cutoff\n",
        "lower_salaries    = salaries['earn'] < salary_cutoff\n",
        "cleaned_salaries  = salaries[~lower_salaries] #salary data only for workers above salary_cutoff\n",
        "#removing records above age cutoff\n",
        "older_salaries    = cleaned_salaries['age'] > age_cutoff\n",
        "cleaned_salaries  = cleaned_salaries[~older_salaries]\n",
        "#removing records below ed cutoff\n",
        "below_ed_salaries = cleaned_salaries['ed'] < ed_cutoff\n",
        "cleaned_salaries  = cleaned_salaries[~below_ed_salaries]\n",
        "\n",
        "# Compute Pearson coefficient for salary and years of education\n",
        "salary = np.array(cleaned_salaries['earn'])\n",
        "years = np.array(cleaned_salaries['ed'])\n",
        "corr_H1, _ = pearsonr(salary,years)\n",
        "\n",
        "print('Correlation coefficient: {:.4f}'.format(corr_H1))\n",
        "\n",
        "#salaries for employees between 18-27\n",
        "salaries_gte_18   = cleaned_salaries[cleaned_salaries['age'] >= 18]\n",
        "salaries_18_27    = salaries_gte_18[salaries_gte_18['age'] < 28]\n",
        "#salaries for employees between 28-37\n",
        "salaries_gte_28   = cleaned_salaries[cleaned_salaries['age'] >= 28]\n",
        "salaries_28_37    = salaries_gte_28[salaries_gte_28['age'] < 38]\n",
        "#salaries for employees between 38-47\n",
        "salaries_gte_38   = cleaned_salaries[cleaned_salaries['age'] >= 38]\n",
        "salaries_38_47    = salaries_gte_38[salaries_gte_38['age'] < 48]\n",
        "#salaries for employees between 48-57\n",
        "salaries_gte_48   = cleaned_salaries[cleaned_salaries['age'] >= 48]\n",
        "salaries_48_57    = salaries_gte_48[salaries_gte_48['age'] < 58]\n",
        "#salaries for employees between 58-67\n",
        "salaries_gte_58   = cleaned_salaries[cleaned_salaries['age'] >= 58]\n",
        "salaries_58_67    = salaries_gte_58[salaries_gte_58['age'] < 68]\n",
        "#salaries for employees between 68-77\n",
        "salaries_gte_68   = cleaned_salaries[cleaned_salaries['age'] >= 68]\n",
        "salaries_68_77    = salaries_gte_68[salaries_gte_68['age'] < 78]\n",
        "#salaries for employees between 78-87\n",
        "#salaries_gte_78   = cleaned_salaries[cleaned_salaries['age'] >= 78]\n",
        "#salaries_78_87    = salaries_gte_78[salaries_gte_78['age'] < 88]\n",
        "#salaries for employees between 88-97\n",
        "#salaries_gte_88   = cleaned_salaries[cleaned_salaries['age'] >= 88]\n",
        "#salaries_88_97    = salaries_gte_88[salaries_gte_88['age'] < 98]\n",
        "\n",
        "print(\"\\n\", end=\"\")\n",
        "print(\"-\"*55)\n",
        "print(\"          Avg. salary   Avg. education   # of people\")\n",
        "print(\"18 to 27: ${:.2f}     {:.0f} years         {}\".format(np.mean(salaries_18_27['earn']), \\\n",
        "                                                             np.mean(salaries_18_27['ed']), \\\n",
        "                                                             len(salaries_18_27)))\n",
        "print(\"28 to 37: ${:.2f}     {:.0f} years         {}\".format(np.mean(salaries_28_37['earn']), \\\n",
        "                                                             np.mean(salaries_28_37['ed']), \\\n",
        "                                                             len(salaries_28_37)))\n",
        "print(\"38 to 47: ${:.2f}     {:.0f} years         {}\".format(np.mean(salaries_38_47['earn']), \\\n",
        "                                                             np.mean(salaries_38_47['ed']), \\\n",
        "                                                             len(salaries_38_47)))\n",
        "print(\"48 to 57: ${:.2f}     {:.0f} years         {}\".format(np.mean(salaries_48_57['earn']), \\\n",
        "                                                             np.mean(salaries_48_57['ed']), \\\n",
        "                                                             len(salaries_48_57)))\n",
        "print(\"58 to 67: ${:.2f}     {:.0f} years         {}\".format(np.mean(salaries_58_67['earn']), \\\n",
        "                                                             np.mean(salaries_58_67['ed']), \\\n",
        "                                                             len(salaries_58_67)))\n",
        "print(\"68 to 77: ${:.2f}     {:.0f} years         {}\".format(np.mean(salaries_68_77['earn']), \\\n",
        "                                                             np.mean(salaries_68_77['ed']), \\\n",
        "                                                             len(salaries_68_77)))\n",
        "print(\"-\"*55)\n",
        "#print(\"78 to 87: ${:.2f}     {:.0f} years         {}\".format(np.mean(salaries_78_87['earn']), \\\n",
        "#                                                             np.mean(salaries_78_87['ed']), \\\n",
        "#                                                             len(salaries_78_87)))\n",
        "#print(\"88 to 97: ${:.2f}     {:.0f} years         {}\".format(np.mean(salaries_88_97['earn']), \\\n",
        "#                                                             np.mean(salaries_88_97['ed']), \\\n",
        "#                                                             len(salaries_88_97)))\n",
        "\n"
      ],
      "execution_count": 12,
      "outputs": [
        {
          "output_type": "stream",
          "text": [
            "Correlation coefficient: 0.3248\n",
            "\n",
            "-------------------------------------------------------\n",
            "          Avg. salary   Avg. education   # of people\n",
            "18 to 27: $21377.86     14 years         140\n",
            "28 to 37: $26595.48     14 years         289\n",
            "38 to 47: $31780.32     14 years         223\n",
            "48 to 57: $35963.73     14 years         102\n",
            "58 to 67: $28959.46     14 years         74\n",
            "68 to 77: $21744.68     14 years         47\n",
            "-------------------------------------------------------\n"
          ],
          "name": "stdout"
        }
      ]
    },
    {
      "cell_type": "markdown",
      "metadata": {
        "id": "ylsSA3g6MGB3"
      },
      "source": [
        "H2:"
      ]
    },
    {
      "cell_type": "markdown",
      "metadata": {
        "id": "-qUm12gi4MhC"
      },
      "source": [
        "**Results:**\n",
        "\n",
        "The results overall showed that women are paid 70 cents for every dollar a man is paid. To ensure that this was not the result of a racial bias, I attempted to keep that variable constant by also checking female-to-male median salaries per race. The results were pretty similar, except for the black female-to-male median salary ratio, which was 0.94; however, the non-white races have very small representation at this company, with no non-white race exceeding 100 employees total. Small samples sizes like that can be prone to error. Despite this, the white staff is considerably larger in numbers and the white female-to-male median salary ratio does further support the hypothesis that this company has a gender bias, with a 0.67 ratio.\n",
        "\n",
        "**Notes on the data:**\n",
        "\n",
        "According to [\"What is the gender pay gap and is it real?\"](https://www.epi.org/publication/what-is-the-gender-pay-gap-and-is-it-real/), a good way to compare salary between gender is through median salary, as opposed to average salary, because the averages can be skewed by outliers. Despite this, I did still use the previous, cleaned-up dataset that had a salary cutoff of $10,000, an age cutoff of 77, and an education cutoff of 12 years just to further remove outliers that could skew the results."
      ]
    },
    {
      "cell_type": "code",
      "metadata": {
        "id": "6RCqC-wEMMpw",
        "colab": {
          "base_uri": "https://localhost:8080/"
        },
        "outputId": "f1d4cfb6-ea18-4721-a4d7-1cf9299b2e03"
      },
      "source": [
        "#salary data by gender\n",
        "cleaned_female_array         = cleaned_salaries[cleaned_salaries['sex'] == 'female']\n",
        "cleaned_male_array           = cleaned_salaries[cleaned_salaries['sex'] == 'male']\n",
        "#salaries of specific gender\n",
        "cleaned_female_salary_array  = cleaned_female_array['earn']\n",
        "cleaned_male_salary_array    = cleaned_male_array['earn']\n",
        "#median salary for specific gender\n",
        "cleaned_female_salary_median = np.median(cleaned_female_salary_array)\n",
        "cleaned_male_salary_median   = np.median(cleaned_male_salary_array)\n",
        "\n",
        "#ratio of female/male median salary\n",
        "f_over_m_median_salary = cleaned_female_salary_median/cleaned_male_salary_median\n",
        "\n",
        "#median salary by gender and race\n",
        "#female\n",
        "white_female    = cleaned_female_array[cleaned_female_array['race'] == 'white']\n",
        "black_female    = cleaned_female_array[cleaned_female_array['race'] == 'black']\n",
        "hispanic_female = cleaned_female_array[cleaned_female_array['race'] == 'hispanic']\n",
        "other_female    = cleaned_female_array[cleaned_female_array['race'] == 'other']\n",
        "\n",
        "#male\n",
        "white_male    = cleaned_male_array[cleaned_male_array['race'] == 'white']\n",
        "black_male    = cleaned_male_array[cleaned_male_array['race'] == 'black']\n",
        "hispanic_male = cleaned_male_array[cleaned_male_array['race'] == 'hispanic']\n",
        "other_male    = cleaned_male_array[cleaned_male_array['race'] == 'other']\n",
        "\n",
        "#race-specific female:male median salary ratio\n",
        "white_f_over_m_median_salary    = np.median(white_female['earn'])    / np.median(white_male['earn'])\n",
        "black_f_over_m_median_salary    = np.median(black_female['earn'])    / np.median(black_male['earn'])\n",
        "hispanic_f_over_m_median_salary = np.median(hispanic_female['earn']) / np.median(hispanic_male['earn'])\n",
        "other_f_over_m_median_salary    = np.median(other_female['earn'])    / np.median(other_male['earn'])\n",
        "\n",
        "#display median salary ratios\n",
        "print(\"Overall Female/Male Median Salary Ratio:  {:.2f}\".format(f_over_m_median_salary))\n",
        "print(\"\\n\", end=\"\")\n",
        "print(\"White Female/Male Median Salary Ratio:    {:.2f}\".format(white_f_over_m_median_salary))\n",
        "print(\"Black Female/Male Median Salary Ratio:    {:.2f}\".format(black_f_over_m_median_salary))\n",
        "print(\"Hispanic Female/Male Median Salary Ratio: {:.2f}\".format(hispanic_f_over_m_median_salary))\n",
        "print(\"Other Female/Male Median Salary Ratio:    {:.2f}\".format(hispanic_f_over_m_median_salary))\n",
        "\n",
        "#display number of employees per race\n",
        "print(\"\\n\", end=\"\")\n",
        "print(\"# of white employees: \")\n",
        "print(\"   Female: {}\\n   Male:   {}\".format(len(white_female), len(white_male)))\n",
        "print(\"# of black employees: \")\n",
        "print(\"   Female: {}\\n   Male:   {}\".format(len(black_female), len(black_male)))\n",
        "print(\"# of hispanic employees: \")\n",
        "print(\"   Female: {}\\n   Male:   {}\".format(len(hispanic_female), len(hispanic_male)))\n",
        "print(\"# of other employees: \")\n",
        "print(\"   Female: {}\\n   Male:   {}\".format(len(other_female), len(other_male)))"
      ],
      "execution_count": 13,
      "outputs": [
        {
          "output_type": "stream",
          "text": [
            "Overall Female/Male Median Salary Ratio:  0.70\n",
            "\n",
            "White Female/Male Median Salary Ratio:    0.67\n",
            "Black Female/Male Median Salary Ratio:    0.94\n",
            "Hispanic Female/Male Median Salary Ratio: 0.71\n",
            "Other Female/Male Median Salary Ratio:    0.71\n",
            "\n",
            "# of white employees: \n",
            "   Female: 393\n",
            "   Male:   341\n",
            "# of black employees: \n",
            "   Female: 50\n",
            "   Male:   30\n",
            "# of hispanic employees: \n",
            "   Female: 24\n",
            "   Male:   22\n",
            "# of other employees: \n",
            "   Female: 8\n",
            "   Male:   7\n"
          ],
          "name": "stdout"
        }
      ]
    },
    {
      "cell_type": "markdown",
      "metadata": {
        "id": "JE_UdkqxMPCJ"
      },
      "source": [
        "H3:"
      ]
    },
    {
      "cell_type": "markdown",
      "metadata": {
        "id": "2rbYf73Lh_U3"
      },
      "source": [
        "Results:\n",
        "The results suggest a racial wage gap. Both the median and average non-white salary are less than the median and avaerage white salary, respectively. Both the median and average also have equal median and average years of education. \n",
        "\n",
        "I did want to try to make a table of median or average salary by race divided into groups by years of education to help hold that variable constant, but unfortunately, there is not enough data to make this realistic. There are 634 white employee data samples but only 141 non-white employee data samples. Once divided into groups by years of education, the non-white groups will get even smaller and less reliable. \n",
        "\n",
        "Similarly, checking by individual race as opposed to white vs non-white has a similar problem. There is simply not enough employee data samples for non-white employees, especially the \"other\" race group.\n",
        "The race counts are as follows:\n",
        "* White:    634\n",
        "* Black:    80\n",
        "* Hispanic: 46\n",
        "* Other: 15\n",
        "\n",
        "Despite all this, the results do strongly suggest that there is a racial wage gap at this company.\n",
        "\n",
        "Notes on the data:\n",
        "As per the other hypotheses, I use the cleaned-up dataset that has a salary cutoff of $10,000, an age cutoff of 77, and an education cutoff of 12 years just to further remove outliers that could skew the results."
      ]
    },
    {
      "cell_type": "code",
      "metadata": {
        "colab": {
          "base_uri": "https://localhost:8080/"
        },
        "id": "jtOXi-fjklki",
        "outputId": "c24204d4-5e88-4d8b-8124-3e6efd0ac252"
      },
      "source": [
        "#H3: Non-whites are paid less (i.e, race bias).\n",
        "\n",
        "#full data for whites and non-whites\n",
        "white_salaries     = cleaned_salaries[cleaned_salaries['race'] == 'white']\n",
        "non_white_salaries = cleaned_salaries[cleaned_salaries['race'] != 'white']\n",
        "\n",
        "#median and average salaries for whites and non-whites\n",
        "white_salary_stats_dict =     {'median':    np.median(white_salaries['earn']), \\\n",
        "                               'average':   np.average(white_salaries['earn'])}\n",
        "non_white_salary_stats_dict = {'median':    np.median(non_white_salaries['earn']), \\\n",
        "                               'average':   np.average(non_white_salaries['earn'])}\n",
        "\n",
        "#combining dictionaries\n",
        "salary_stats_dict =           {'white':     white_salary_stats_dict, \\\n",
        "                               'non_white': non_white_salary_stats_dict}\n",
        "\n",
        "#median and average years of education for whites and non-whites\n",
        "white_ed_stats_dict =         {'median':    np.median(white_salaries['ed']), \\\n",
        "                               'average':   np.average(white_salaries['ed'])}\n",
        "non_white_ed_stats_dict =     {'median':    np.median(non_white_salaries['ed']), \\\n",
        "                               'average':   np.average(non_white_salaries['ed'])}\n",
        "\n",
        "#combining dictionaries\n",
        "salary_ed_dict =              {'white':     white_ed_stats_dict, \\\n",
        "                               'non_white': non_white_ed_stats_dict}\n",
        "\n",
        "\n",
        "#display results\n",
        "print(\"           Median Salary   Median Years of Education\")\n",
        "print(\"White      ${:.0f}          {:.0f}\".format(salary_stats_dict['white']['median'], \\\n",
        "                                                  salary_ed_dict['white']['median']))\n",
        "print(\"Non-white  ${:.0f}          {:.0f}\".format(salary_stats_dict['non_white']['median'], \\\n",
        "                                                      salary_ed_dict['non_white']['median']))\n",
        "\n",
        "print(\"-\"*50)\n",
        "print(\"           Average Salary  Average Years of Education\")\n",
        "print(\"White      ${:.0f}          {:.0f}\".format(salary_stats_dict['white']['average'], \\\n",
        "                                                 salary_ed_dict['white']['average']))\n",
        "print(\"Non-white  ${:.0f}          {:.0f}\".format(salary_stats_dict['non_white']['average'], \\\n",
        "                                                  salary_ed_dict['non_white']['average']))\n",
        "\n",
        "\n"
      ],
      "execution_count": 14,
      "outputs": [
        {
          "output_type": "stream",
          "text": [
            "           Median Salary   Median Years of Education\n",
            "White      $24000          14\n",
            "Non-white  $22000          14\n",
            "--------------------------------------------------\n",
            "           Average Salary  Average Years of Education\n",
            "White      $28824          14\n",
            "Non-white  $24414          14\n"
          ],
          "name": "stdout"
        }
      ]
    },
    {
      "cell_type": "markdown",
      "metadata": {
        "id": "9Obov7yPAR0t"
      },
      "source": [
        "-------------------\n",
        "## Part 2: Classification"
      ]
    },
    {
      "cell_type": "markdown",
      "metadata": {
        "id": "o5OUL7StAR0t"
      },
      "source": [
        "### 2a. Iris flower classification\n",
        "\n",
        "The Python code below will load a dataset containing information about three types of Iris flowers that had the size of its petals and sepals carefully measured.\n",
        "\n",
        "The Fisher’s Iris dataset contains 150 observations with 4 features each: \n",
        "- sepal length in cm; \n",
        "- sepal width in cm; \n",
        "- petal length in cm; and \n",
        "- petal width in cm. \n",
        "\n",
        "The class for each instance is stored in a separate column called “species”. In this case, the first 50 instances belong to class Setosa, the following 50 belong to class Versicolor and the last 50 belong to class Virginica.\n",
        "\n",
        "See:\n",
        "https://archive.ics.uci.edu/ml/datasets/Iris for additional information."
      ]
    },
    {
      "cell_type": "code",
      "metadata": {
        "colab": {
          "base_uri": "https://localhost:8080/",
          "height": 203
        },
        "id": "6u4etvOgAR0t",
        "outputId": "0ff0eb38-0207-4734-f323-e3a3b33471a7"
      },
      "source": [
        "import numpy as np\n",
        "import matplotlib.pyplot as plt\n",
        "import seaborn as sns\n",
        "iris = sns.load_dataset(\"iris\")\n",
        "iris.head()"
      ],
      "execution_count": 15,
      "outputs": [
        {
          "output_type": "execute_result",
          "data": {
            "text/html": [
              "<div>\n",
              "<style scoped>\n",
              "    .dataframe tbody tr th:only-of-type {\n",
              "        vertical-align: middle;\n",
              "    }\n",
              "\n",
              "    .dataframe tbody tr th {\n",
              "        vertical-align: top;\n",
              "    }\n",
              "\n",
              "    .dataframe thead th {\n",
              "        text-align: right;\n",
              "    }\n",
              "</style>\n",
              "<table border=\"1\" class=\"dataframe\">\n",
              "  <thead>\n",
              "    <tr style=\"text-align: right;\">\n",
              "      <th></th>\n",
              "      <th>sepal_length</th>\n",
              "      <th>sepal_width</th>\n",
              "      <th>petal_length</th>\n",
              "      <th>petal_width</th>\n",
              "      <th>species</th>\n",
              "    </tr>\n",
              "  </thead>\n",
              "  <tbody>\n",
              "    <tr>\n",
              "      <th>0</th>\n",
              "      <td>5.1</td>\n",
              "      <td>3.5</td>\n",
              "      <td>1.4</td>\n",
              "      <td>0.2</td>\n",
              "      <td>setosa</td>\n",
              "    </tr>\n",
              "    <tr>\n",
              "      <th>1</th>\n",
              "      <td>4.9</td>\n",
              "      <td>3.0</td>\n",
              "      <td>1.4</td>\n",
              "      <td>0.2</td>\n",
              "      <td>setosa</td>\n",
              "    </tr>\n",
              "    <tr>\n",
              "      <th>2</th>\n",
              "      <td>4.7</td>\n",
              "      <td>3.2</td>\n",
              "      <td>1.3</td>\n",
              "      <td>0.2</td>\n",
              "      <td>setosa</td>\n",
              "    </tr>\n",
              "    <tr>\n",
              "      <th>3</th>\n",
              "      <td>4.6</td>\n",
              "      <td>3.1</td>\n",
              "      <td>1.5</td>\n",
              "      <td>0.2</td>\n",
              "      <td>setosa</td>\n",
              "    </tr>\n",
              "    <tr>\n",
              "      <th>4</th>\n",
              "      <td>5.0</td>\n",
              "      <td>3.6</td>\n",
              "      <td>1.4</td>\n",
              "      <td>0.2</td>\n",
              "      <td>setosa</td>\n",
              "    </tr>\n",
              "  </tbody>\n",
              "</table>\n",
              "</div>"
            ],
            "text/plain": [
              "   sepal_length  sepal_width  petal_length  petal_width species\n",
              "0           5.1          3.5           1.4          0.2  setosa\n",
              "1           4.9          3.0           1.4          0.2  setosa\n",
              "2           4.7          3.2           1.3          0.2  setosa\n",
              "3           4.6          3.1           1.5          0.2  setosa\n",
              "4           5.0          3.6           1.4          0.2  setosa"
            ]
          },
          "metadata": {
            "tags": []
          },
          "execution_count": 15
        }
      ]
    },
    {
      "cell_type": "markdown",
      "metadata": {
        "id": "tdOo8yXPs2BF"
      },
      "source": [
        "#### Histograms, pair plots and summary statistics \n",
        "\n",
        "The code below:\n",
        "\n",
        "1. Computes and displays relevant summary statistics for the whole dataset.\n",
        "2. Displays the pair plots for all (4) attributes for all (3) categories / species / classes in the Iris dataset. "
      ]
    },
    {
      "cell_type": "code",
      "metadata": {
        "colab": {
          "base_uri": "https://localhost:8080/",
          "height": 1000
        },
        "id": "6wIiUcJFs2BO",
        "outputId": "9c55c6b7-13d1-412e-fdb5-2e0fe5de43ec"
      },
      "source": [
        "# Display pair plot\n",
        "sns.pairplot(iris, hue='species', height=2.5);\n",
        "\n",
        "# Display summary statistics for the whole dataset\n",
        "iris.describe()"
      ],
      "execution_count": 16,
      "outputs": [
        {
          "output_type": "execute_result",
          "data": {
            "text/html": [
              "<div>\n",
              "<style scoped>\n",
              "    .dataframe tbody tr th:only-of-type {\n",
              "        vertical-align: middle;\n",
              "    }\n",
              "\n",
              "    .dataframe tbody tr th {\n",
              "        vertical-align: top;\n",
              "    }\n",
              "\n",
              "    .dataframe thead th {\n",
              "        text-align: right;\n",
              "    }\n",
              "</style>\n",
              "<table border=\"1\" class=\"dataframe\">\n",
              "  <thead>\n",
              "    <tr style=\"text-align: right;\">\n",
              "      <th></th>\n",
              "      <th>sepal_length</th>\n",
              "      <th>sepal_width</th>\n",
              "      <th>petal_length</th>\n",
              "      <th>petal_width</th>\n",
              "    </tr>\n",
              "  </thead>\n",
              "  <tbody>\n",
              "    <tr>\n",
              "      <th>count</th>\n",
              "      <td>150.000000</td>\n",
              "      <td>150.000000</td>\n",
              "      <td>150.000000</td>\n",
              "      <td>150.000000</td>\n",
              "    </tr>\n",
              "    <tr>\n",
              "      <th>mean</th>\n",
              "      <td>5.843333</td>\n",
              "      <td>3.057333</td>\n",
              "      <td>3.758000</td>\n",
              "      <td>1.199333</td>\n",
              "    </tr>\n",
              "    <tr>\n",
              "      <th>std</th>\n",
              "      <td>0.828066</td>\n",
              "      <td>0.435866</td>\n",
              "      <td>1.765298</td>\n",
              "      <td>0.762238</td>\n",
              "    </tr>\n",
              "    <tr>\n",
              "      <th>min</th>\n",
              "      <td>4.300000</td>\n",
              "      <td>2.000000</td>\n",
              "      <td>1.000000</td>\n",
              "      <td>0.100000</td>\n",
              "    </tr>\n",
              "    <tr>\n",
              "      <th>25%</th>\n",
              "      <td>5.100000</td>\n",
              "      <td>2.800000</td>\n",
              "      <td>1.600000</td>\n",
              "      <td>0.300000</td>\n",
              "    </tr>\n",
              "    <tr>\n",
              "      <th>50%</th>\n",
              "      <td>5.800000</td>\n",
              "      <td>3.000000</td>\n",
              "      <td>4.350000</td>\n",
              "      <td>1.300000</td>\n",
              "    </tr>\n",
              "    <tr>\n",
              "      <th>75%</th>\n",
              "      <td>6.400000</td>\n",
              "      <td>3.300000</td>\n",
              "      <td>5.100000</td>\n",
              "      <td>1.800000</td>\n",
              "    </tr>\n",
              "    <tr>\n",
              "      <th>max</th>\n",
              "      <td>7.900000</td>\n",
              "      <td>4.400000</td>\n",
              "      <td>6.900000</td>\n",
              "      <td>2.500000</td>\n",
              "    </tr>\n",
              "  </tbody>\n",
              "</table>\n",
              "</div>"
            ],
            "text/plain": [
              "       sepal_length  sepal_width  petal_length  petal_width\n",
              "count    150.000000   150.000000    150.000000   150.000000\n",
              "mean       5.843333     3.057333      3.758000     1.199333\n",
              "std        0.828066     0.435866      1.765298     0.762238\n",
              "min        4.300000     2.000000      1.000000     0.100000\n",
              "25%        5.100000     2.800000      1.600000     0.300000\n",
              "50%        5.800000     3.000000      4.350000     1.300000\n",
              "75%        6.400000     3.300000      5.100000     1.800000\n",
              "max        7.900000     4.400000      6.900000     2.500000"
            ]
          },
          "metadata": {
            "tags": []
          },
          "execution_count": 16
        },
        {
          "output_type": "display_data",
          "data": {
            "image/png": "[encoded data removed]",
            "text/plain": [
              "<Figure size 813.85x720 with 20 Axes>"
            ]
          },
          "metadata": {
            "tags": [],
            "needs_background": "light"
          }
        }
      ]
    },
    {
      "cell_type": "markdown",
      "metadata": {
        "id": "CwuqliAIpAN6"
      },
      "source": [
        "#### 2.1 Your turn! (25 points)\n",
        "Write code to: \n",
        "\n",
        "1. Build a decision tree classifier using scikit-learn's `DecisionTreeClassifier` (using the default options). Check documentation at https://scikit-learn.org/stable/modules/generated/sklearn.tree.DecisionTreeClassifier.html \n",
        "2. Plot the resulting decision tree. \n",
        "(Note: if `graphviz` gives you headaches, a text-based 'plot'-- using `export_text` -- should be OK.)\n",
        "3. Perform k-fold cross-validation using k=3 and display the results. \n"
      ]
    },
    {
      "cell_type": "markdown",
      "metadata": {
        "id": "SpN3aDQTDIYx"
      },
      "source": [
        "References:\n",
        "* Help in figuring out how to use DecisionTreeClassifier from https://scikit-learn.org/stable/modules/generated/sklearn.tree.DecisionTreeClassifier.html\n",
        "* Help in using scikit learn's export_text from https://scikit-learn.org/stable/modules/generated/sklearn.tree.export_text.html\n",
        "* Help in figuring out how to use k-fold cross-validation from https://machinelearningmastery.com/how-to-configure-k-fold-cross-validation/\n",
        "* Help in figuring out how to use k-fold cross-validation from https://scikit-learn.org/stable/modules/generated/sklearn.model_selection.KFold.html"
      ]
    },
    {
      "cell_type": "code",
      "metadata": {
        "colab": {
          "base_uri": "https://localhost:8080/"
        },
        "id": "QBGebzpf1nOm",
        "outputId": "542fa74d-0938-4521-8fd8-7ec435ffd8ba"
      },
      "source": [
        "from sklearn.model_selection import train_test_split\n",
        "from sklearn import tree\n",
        "from sklearn.tree import export_text\n",
        "from sklearn.model_selection import KFold\n",
        "from sklearn.model_selection import cross_val_score\n",
        "from numpy import mean\n",
        "from numpy import std\n",
        "\n",
        "X = iris.iloc[:,:-1] #data\n",
        "y = iris.iloc[:,-1]  #species classification\n",
        "\n",
        "#setting up training data set and testing data set\n",
        "Xtrain, Xtest, ytrain, ytest = \\\n",
        "    train_test_split(X, y, stratify=y, test_size=0.25, random_state=42)\n",
        "\n",
        "#making decision tree classifier, trained on xtrain and y train\n",
        "dtc = tree.DecisionTreeClassifier(random_state=42)\n",
        "dtc.fit(Xtrain, ytrain)\n",
        "\n",
        "#display decision tree\n",
        "r = export_text(dtc, ['sepal_length', 'sepal_width', 'petal_length', 'petal_width'])\n",
        "print('Decision Tree:\\n')\n",
        "print(r)\n",
        "\n",
        "#3-fold cross validiation\n",
        "cv = KFold(n_splits=3, random_state=1, shuffle=True)\n",
        "scores = cross_val_score(dtc, X, y, scoring='accuracy', cv=cv, n_jobs=-1)\n",
        "#displaying results of 3-fold cross validation testing\n",
        "print('\\n')\n",
        "print('3-Fold Cross Validation Test Results')\n",
        "print('-' * 40)\n",
        "for i in range(len(scores)):\n",
        "    print('Test  {:d}:   {:.2f}'.format(i + 1, scores[i]))\n",
        "print('\\n', end='')\n",
        "print('Average:   {:.3f}'.format(mean(scores)))\n",
        "print('Std. Dev.: {:.3f}'.format(std(scores)))"
      ],
      "execution_count": 17,
      "outputs": [
        {
          "output_type": "stream",
          "text": [
            "Decision Tree:\n",
            "\n",
            "|--- petal_length <= 2.45\n",
            "|   |--- class: setosa\n",
            "|--- petal_length >  2.45\n",
            "|   |--- petal_length <= 4.85\n",
            "|   |   |--- petal_width <= 1.65\n",
            "|   |   |   |--- class: versicolor\n",
            "|   |   |--- petal_width >  1.65\n",
            "|   |   |   |--- sepal_length <= 6.05\n",
            "|   |   |   |   |--- class: versicolor\n",
            "|   |   |   |--- sepal_length >  6.05\n",
            "|   |   |   |   |--- class: virginica\n",
            "|   |--- petal_length >  4.85\n",
            "|   |   |--- petal_width <= 1.70\n",
            "|   |   |   |--- petal_length <= 4.95\n",
            "|   |   |   |   |--- class: versicolor\n",
            "|   |   |   |--- petal_length >  4.95\n",
            "|   |   |   |   |--- sepal_width <= 2.75\n",
            "|   |   |   |   |   |--- sepal_width <= 2.45\n",
            "|   |   |   |   |   |   |--- class: virginica\n",
            "|   |   |   |   |   |--- sepal_width >  2.45\n",
            "|   |   |   |   |   |   |--- class: versicolor\n",
            "|   |   |   |   |--- sepal_width >  2.75\n",
            "|   |   |   |   |   |--- class: virginica\n",
            "|   |   |--- petal_width >  1.70\n",
            "|   |   |   |--- class: virginica\n",
            "\n",
            "\n",
            "\n",
            "3-Fold Cross Validation Test Results\n",
            "----------------------------------------\n",
            "Test  1:   0.96\n",
            "Test  2:   0.90\n",
            "Test  3:   0.88\n",
            "\n",
            "Average:   0.913\n",
            "Std. Dev.: 0.034\n"
          ],
          "name": "stdout"
        }
      ]
    },
    {
      "cell_type": "markdown",
      "metadata": {
        "id": "XesVDqeGft6C"
      },
      "source": [
        "### 2b. Digit classification\n",
        "\n",
        "The MNIST handwritten digit dataset consists of a training set of 60,000 examples, and a test set of 10,000 examples. Each image in the dataset has 28$\\times$28 pixels. \n",
        "\n",
        "The Python code below loads the images from the MNIST dataset, flattens them, normalizes them (i.e., maps the intensity values from [0..255] to [0..1]), and displays a few images from the training set."
      ]
    },
    {
      "cell_type": "code",
      "metadata": {
        "id": "QTJNAnEJiBIS",
        "colab": {
          "base_uri": "https://localhost:8080/"
        },
        "outputId": "144d5ab2-f0ec-4e1a-dadc-8308b5d0ba98"
      },
      "source": [
        "from keras.datasets import mnist\n",
        "\n",
        "# Model / data parameters\n",
        "num_classes = 10\n",
        "input_shape = (28, 28, 1)\n",
        "\n",
        "# the data, split between train and validation sets\n",
        "(X_train, y_train), (X_valid, y_valid) = mnist.load_data()"
      ],
      "execution_count": 18,
      "outputs": [
        {
          "output_type": "stream",
          "text": [
            "Downloading data from https://storage.googleapis.com/tensorflow/tf-keras-datasets/mnist.npz\n",
            "11493376/11490434 [==============================] - 0s 0us/step\n",
            "11501568/11490434 [==============================] - 0s 0us/step\n"
          ],
          "name": "stdout"
        }
      ]
    },
    {
      "cell_type": "code",
      "metadata": {
        "id": "33ifPmyqiLtx",
        "colab": {
          "base_uri": "https://localhost:8080/"
        },
        "outputId": "ff57097e-dbf6-4e6b-88ea-923823d0fc88"
      },
      "source": [
        "X_train.shape"
      ],
      "execution_count": 19,
      "outputs": [
        {
          "output_type": "execute_result",
          "data": {
            "text/plain": [
              "(60000, 28, 28)"
            ]
          },
          "metadata": {
            "tags": []
          },
          "execution_count": 19
        }
      ]
    },
    {
      "cell_type": "code",
      "metadata": {
        "id": "Gcvsy-IriOfl",
        "colab": {
          "base_uri": "https://localhost:8080/"
        },
        "outputId": "abdab44f-6c31-4871-ad87-21e65e2df562"
      },
      "source": [
        "y_train.shape"
      ],
      "execution_count": 20,
      "outputs": [
        {
          "output_type": "execute_result",
          "data": {
            "text/plain": [
              "(60000,)"
            ]
          },
          "metadata": {
            "tags": []
          },
          "execution_count": 20
        }
      ]
    },
    {
      "cell_type": "code",
      "metadata": {
        "id": "fFmY8QKfiR7I",
        "colab": {
          "base_uri": "https://localhost:8080/"
        },
        "outputId": "39e02dcb-6c3e-4527-9864-bf513de11a60"
      },
      "source": [
        "y_train[0:12]"
      ],
      "execution_count": 21,
      "outputs": [
        {
          "output_type": "execute_result",
          "data": {
            "text/plain": [
              "array([5, 0, 4, 1, 9, 2, 1, 3, 1, 4, 3, 5], dtype=uint8)"
            ]
          },
          "metadata": {
            "tags": []
          },
          "execution_count": 21
        }
      ]
    },
    {
      "cell_type": "code",
      "metadata": {
        "id": "JUkO-HA8iZIi",
        "colab": {
          "base_uri": "https://localhost:8080/",
          "height": 327
        },
        "outputId": "e645e10a-a465-446c-cf97-6581c9d1e22a"
      },
      "source": [
        "plt.figure(figsize=(5,5))\n",
        "for k in range(12):\n",
        "    plt.subplot(3, 4, k+1)\n",
        "    plt.imshow(X_train[k], cmap='Greys')\n",
        "    plt.axis('off')\n",
        "plt.tight_layout()\n",
        "plt.show()"
      ],
      "execution_count": 22,
      "outputs": [
        {
          "output_type": "display_data",
          "data": {
            "image/png": "[encoded data removed]",
            "text/plain": [
              "<Figure size 360x360 with 12 Axes>"
            ]
          },
          "metadata": {
            "tags": [],
            "needs_background": "light"
          }
        }
      ]
    },
    {
      "cell_type": "code",
      "metadata": {
        "id": "I7eH9sc4ibu3",
        "colab": {
          "base_uri": "https://localhost:8080/"
        },
        "outputId": "9a3e3988-588b-4417-a5c0-157de59594e0"
      },
      "source": [
        "X_valid.shape"
      ],
      "execution_count": 23,
      "outputs": [
        {
          "output_type": "execute_result",
          "data": {
            "text/plain": [
              "(10000, 28, 28)"
            ]
          },
          "metadata": {
            "tags": []
          },
          "execution_count": 23
        }
      ]
    },
    {
      "cell_type": "code",
      "metadata": {
        "id": "wGa5yU51ieD1",
        "colab": {
          "base_uri": "https://localhost:8080/"
        },
        "outputId": "3904bed2-37c2-43da-f80e-274d881a5d19"
      },
      "source": [
        "y_valid.shape"
      ],
      "execution_count": 24,
      "outputs": [
        {
          "output_type": "execute_result",
          "data": {
            "text/plain": [
              "(10000,)"
            ]
          },
          "metadata": {
            "tags": []
          },
          "execution_count": 24
        }
      ]
    },
    {
      "cell_type": "code",
      "metadata": {
        "id": "lvmcA-mvif5J",
        "colab": {
          "base_uri": "https://localhost:8080/"
        },
        "outputId": "28f3daca-5ab3-49f0-8ead-334b678868a4"
      },
      "source": [
        "y_valid[0]"
      ],
      "execution_count": 25,
      "outputs": [
        {
          "output_type": "execute_result",
          "data": {
            "text/plain": [
              "7"
            ]
          },
          "metadata": {
            "tags": []
          },
          "execution_count": 25
        }
      ]
    },
    {
      "cell_type": "code",
      "metadata": {
        "id": "7G-9DejPih6y",
        "colab": {
          "base_uri": "https://localhost:8080/",
          "height": 248
        },
        "outputId": "d2afe9dd-9ec8-424b-fb58-460bc974b57d"
      },
      "source": [
        "plt.imshow(X_valid[0], cmap='Greys')\n",
        "plt.axis('off')\n",
        "plt.show()"
      ],
      "execution_count": 26,
      "outputs": [
        {
          "output_type": "display_data",
          "data": {
            "image/png": "[encoded data removed]",
            "text/plain": [
              "<Figure size 432x288 with 1 Axes>"
            ]
          },
          "metadata": {
            "tags": [],
            "needs_background": "light"
          }
        }
      ]
    },
    {
      "cell_type": "code",
      "metadata": {
        "id": "PXV8DilKikfk",
        "colab": {
          "base_uri": "https://localhost:8080/"
        },
        "outputId": "9c2268e3-3460-4665-b548-bd7b96ca4cb2"
      },
      "source": [
        "# Reshape (flatten) images \n",
        "X_train_reshaped = X_train.reshape(60000, 784).astype('float32')\n",
        "X_valid_reshaped = X_valid.reshape(10000, 784).astype('float32')\n",
        "\n",
        "# Scale images to the [0, 1] range\n",
        "X_train_scaled_reshaped = X_train_reshaped / 255\n",
        "X_valid_scaled_reshaped = X_valid_reshaped / 255\n",
        "\n",
        "# Renaming for conciseness\n",
        "X_training = X_train_scaled_reshaped\n",
        "X_validation = X_valid_scaled_reshaped\n",
        "\n",
        "print(\"X_training shape (after reshaping + scaling):\", X_training.shape)\n",
        "print(X_training.shape[0], \"train samples\")\n",
        "print(\"X_validation shape (after reshaping + scaling):\", X_validation.shape)\n",
        "print(X_validation.shape[0], \"validation samples\")"
      ],
      "execution_count": 27,
      "outputs": [
        {
          "output_type": "stream",
          "text": [
            "X_training shape (after reshaping + scaling): (60000, 784)\n",
            "60000 train samples\n",
            "X_validation shape (after reshaping + scaling): (10000, 784)\n",
            "10000 validation samples\n"
          ],
          "name": "stdout"
        }
      ]
    },
    {
      "cell_type": "code",
      "metadata": {
        "id": "VZG2TGC_inSV"
      },
      "source": [
        "import tensorflow as tf\n",
        "# convert class vectors to binary class matrices\n",
        "y_training = tf.keras.utils.to_categorical(y_train, num_classes)\n",
        "y_validation = tf.keras.utils.to_categorical(y_valid, num_classes)"
      ],
      "execution_count": 28,
      "outputs": []
    },
    {
      "cell_type": "code",
      "metadata": {
        "id": "l9O6Bq7PipQI",
        "colab": {
          "base_uri": "https://localhost:8080/"
        },
        "outputId": "3e5c6823-1d4c-4660-8055-08f6d484deb2"
      },
      "source": [
        "print(y_valid[0])\n",
        "print(y_validation[0])"
      ],
      "execution_count": 29,
      "outputs": [
        {
          "output_type": "stream",
          "text": [
            "7\n",
            "[0. 0. 0. 0. 0. 0. 0. 1. 0. 0.]\n"
          ],
          "name": "stdout"
        }
      ]
    },
    {
      "cell_type": "markdown",
      "metadata": {
        "id": "Vkt05yhuitE_"
      },
      "source": [
        "#### A baseline classifier\n",
        "\n",
        "The code below is an example of how to:\n",
        "\n",
        "1. Build and fit a 10-class Naive Bayes classifier using scikit-learn's `MultinomialNB()` with default options and using the raw pixel values as features. \n",
        "2. Make predictions on the test data, compute the overall accuracy, and plot the resulting confusing matrix.\n"
      ]
    },
    {
      "cell_type": "code",
      "metadata": {
        "id": "H3hKlWhyi3J1"
      },
      "source": [
        "from sklearn.naive_bayes import MultinomialNB\n",
        "model = MultinomialNB()\n",
        "model.fit(X_training, y_train)\n",
        "pred_labels = model.predict(X_validation)"
      ],
      "execution_count": 30,
      "outputs": []
    },
    {
      "cell_type": "code",
      "metadata": {
        "id": "JfwUJsIvjpaE",
        "colab": {
          "base_uri": "https://localhost:8080/"
        },
        "outputId": "a39c96a9-9d0f-4d3b-8fcb-1d52fb4cb58c"
      },
      "source": [
        "pred_labels.shape"
      ],
      "execution_count": 31,
      "outputs": [
        {
          "output_type": "execute_result",
          "data": {
            "text/plain": [
              "(10000,)"
            ]
          },
          "metadata": {
            "tags": []
          },
          "execution_count": 31
        }
      ]
    },
    {
      "cell_type": "code",
      "metadata": {
        "id": "cMJu4l1tjkxu",
        "colab": {
          "base_uri": "https://localhost:8080/"
        },
        "outputId": "e099d799-d896-442b-b3fe-1438b525d59e"
      },
      "source": [
        "print(pred_labels)"
      ],
      "execution_count": 32,
      "outputs": [
        {
          "output_type": "stream",
          "text": [
            "[7 2 1 ... 9 8 6]\n"
          ],
          "name": "stdout"
        }
      ]
    },
    {
      "cell_type": "code",
      "metadata": {
        "id": "mclW1t7hjsiL",
        "colab": {
          "base_uri": "https://localhost:8080/"
        },
        "outputId": "c0ee3ee2-4486-4c08-e72d-2a897c249263"
      },
      "source": [
        "print(y_valid)"
      ],
      "execution_count": 33,
      "outputs": [
        {
          "output_type": "stream",
          "text": [
            "[7 2 1 ... 4 5 6]\n"
          ],
          "name": "stdout"
        }
      ]
    },
    {
      "cell_type": "code",
      "metadata": {
        "id": "veIXgAmojcD0",
        "colab": {
          "base_uri": "https://localhost:8080/",
          "height": 285
        },
        "outputId": "4f0bc1f7-41c7-422a-82bf-844f8a879c76"
      },
      "source": [
        "from sklearn.metrics import confusion_matrix\n",
        "import seaborn as sns \n",
        "mat = confusion_matrix(y_valid, pred_labels)\n",
        "sns.heatmap(mat.T, square=True, annot=True, fmt='d', cbar=False, cmap=\"YlGnBu\")\n",
        "plt.xlabel('true label')\n",
        "plt.ylabel('predicted label');"
      ],
      "execution_count": 34,
      "outputs": [
        {
          "output_type": "display_data",
          "data": {
            "image/png": "[encoded data removed]",
            "text/plain": [
              "<Figure size 432x288 with 1 Axes>"
            ]
          },
          "metadata": {
            "tags": [],
            "needs_background": "light"
          }
        }
      ]
    },
    {
      "cell_type": "code",
      "metadata": {
        "id": "PSSU0QaEj5rY",
        "colab": {
          "base_uri": "https://localhost:8080/"
        },
        "outputId": "029bc51e-d25e-456e-d023-5ce5e2092a4f"
      },
      "source": [
        "from sklearn.metrics import accuracy_score\n",
        "accuracy_score(y_valid, pred_labels)"
      ],
      "execution_count": 35,
      "outputs": [
        {
          "output_type": "execute_result",
          "data": {
            "text/plain": [
              "0.8357"
            ]
          },
          "metadata": {
            "tags": []
          },
          "execution_count": 35
        }
      ]
    },
    {
      "cell_type": "markdown",
      "metadata": {
        "id": "bRNfQt7EkAWS"
      },
      "source": [
        "#### 2.2 Your turn! (20 points)\n",
        "\n",
        "Write code to: \n",
        "\n",
        "1. Build and fit a 10-class Random Forests classifier using scikit-learn's `RandomForestClassifier()` with default options (don't forget `random_state=0`) and using the raw pixel values as features. \n",
        "2. Make predictions on the test data, compute the overall accuracy and plot the resulting confusing matrix. \n",
        "\n",
        "Hint: your accuracy should be > 90%"
      ]
    },
    {
      "cell_type": "markdown",
      "metadata": {
        "id": "peLD-x52V303"
      },
      "source": [
        "References:\n",
        "* Help in figuring out how to set up RandomForestClassifier() and what its methods do: https://scikit-learn.org/stable/modules/generated/sklearn.ensemble.RandomForestClassifier.html\n",
        "* Help in understanding what sns.heatmap() does: https://seaborn.pydata.org/generated/seaborn.heatmap.html"
      ]
    },
    {
      "cell_type": "code",
      "metadata": {
        "id": "g3YAFEx9kIlY",
        "colab": {
          "base_uri": "https://localhost:8080/",
          "height": 352
        },
        "outputId": "a4bb89ac-d443-4991-ebd1-483e5c4d8f38"
      },
      "source": [
        "from sklearn.ensemble import RandomForestClassifier\n",
        "\n",
        "#initialize Random Forest Classifier\n",
        "model_2 = RandomForestClassifier(random_state=0, ) \n",
        "#build forest of trees from training set\n",
        "model_2.fit(X_training, y_train)\n",
        "\n",
        "#to confirm that the Random Forests classifier is 10-class \n",
        "print('Number of classes: ', model_2.n_classes_)\n",
        "print('\\n', end='')\n",
        "\n",
        "#make predictions for X_validation\n",
        "pred_labels_2 = model_2.predict(X_validation)\n",
        "\n",
        "#make confusion matrix\n",
        "mat_2 = confusion_matrix(y_valid, pred_labels_2)\n",
        "\n",
        "#make colored matrix and set labels\n",
        "sns.heatmap(mat_2.T, square=True, annot=True, fmt='d', cbar=False, cmap=\"YlGnBu\")\n",
        "plt.xlabel('true label')\n",
        "plt.ylabel('predicted label');\n",
        "\n",
        "#output accuracy of Random Forest Classifier\n",
        "print('Accuracy: ', accuracy_score(y_valid, pred_labels_2))\n",
        "print('\\n', end='')"
      ],
      "execution_count": 36,
      "outputs": [
        {
          "output_type": "stream",
          "text": [
            "Number of classes:  10\n",
            "\n",
            "Accuracy:  0.9705\n",
            "\n"
          ],
          "name": "stdout"
        },
        {
          "output_type": "display_data",
          "data": {
            "image/png": "[encoded data removed]",
            "text/plain": [
              "<Figure size 432x288 with 1 Axes>"
            ]
          },
          "metadata": {
            "tags": [],
            "needs_background": "light"
          }
        }
      ]
    },
    {
      "cell_type": "markdown",
      "metadata": {
        "id": "GLi0m9uuKkpD"
      },
      "source": [
        "## Conclusions (21 points)\n",
        "\n",
        "Write your conclusions and make sure to address the issues below:\n",
        "- What have you learned from this assignment?\n",
        "- Which parts were the most fun, time-consuming, enlightening, tedious?\n",
        "- What would you do if you had an additional week to work on this?"
      ]
    },
    {
      "cell_type": "markdown",
      "metadata": {
        "id": "6_JtoF2cO2RX"
      },
      "source": [
        "**What have you learned from this assignment?**\n",
        "------------------------------------------------\n",
        "This assignment exposed me to a much more complex realm of data science. We had dealt with it before, to a degree, with the Iris data set and the diabetes data set; however, it seems our methods of utilizing the data were very elementary compared to a lot of the code in here.\n",
        "\n",
        "Working on this assignment helped me gain a basic understanding of how to use Scikit Learn, Pandas, Numpy, and Seaborn. Finding mean, median, and standard deviation is much easier with these tools. It is also a lot simpler to cut out data that you don't want and to focus on data with certain attributes or qualities.\n",
        "\n",
        "In a sense, I understand classifiers better, but it was really quite complex and detached from what we have learned throughout the rest of the semester. I wouldn't say I have \"learned\" how to use these classifier tools (especially conceptually), but the learning curve has definitely dropped by looking through the docuentation for these tools while figuring out how to get them to work. Classifiers will be less daunting in the future.\n",
        "\n",
        "**Which parts were the most fun, time-consuming, enlightening, tedious?**\n",
        "------------------------------------------------\n",
        "The most time-consuming and most tedious task was the Hypotheses H1, H2, and H3 section. The tasks were all somewhat similar and I spent a lot of time manipulating the data in order to find the best ways to present the data in a compelling way and make a case for the hypotheses one way or another. There was a lot of trial and error. I would spend long amounts of time making big dictionaries of data to only realize the data would not be useful.\n",
        "\n",
        "1.1 and 1.2 were the most enlightening because I understood them better than the classifier section. I could see many ways that the tools used in 1.1 and 1.2 could be used in the future to save time, and now I am fairly comfortable with them, so I will definitely look for ways to use Pandas and Numpy in the future.\n",
        "\n",
        "The most fun section was probably 2.2 just because it is enjoyable to see a large amount of data be processed and used to do something, and then see the results presented in a visually-appealing table.\n",
        "\n",
        "**What would you do if you had an additional week to work on this?**\n",
        "------------------------------------------------\n",
        "If I had an additional week to work on this assignment, I would add graphs to my 1.2 solutions (Hypotheses H1, H2, H3). \n",
        "\n",
        "I would also complete the optional task for 1.1: \"Plot meaningful graphs that could provide insight into the gender inequality (if any is present) associated with the salaries in the company.\" because it is pretty similar to any graphs I could potentially make for H2 in 1.2, so doing this optional step would probably be quite easy if I were to make graphs for the hypotheses.\n",
        "\n",
        "I would also try again to get \"graphviz\" to work instead of using \"export_text\"."
      ]
    },
    {
      "cell_type": "markdown",
      "metadata": {
        "id": "_rxC-Z6jCVrT"
      },
      "source": [
        "#Works Cited:\n",
        "* Akoglu, Haldun. “User's guide to correlation coefficients.” *Turkish journal of emergency medicine* vol. 18,3 91-93. 7 Aug. 2018, doi:10.1016/j.tjem.2018.08.001\n",
        "\n",
        "* Brownlee, Jason. “How to Configure k-Fold Cross-Validation.” *Machine Learning Mastery*, 26 Aug. 2020, [machinelearningmastery.com/how-to-configure-k-fold-cross-validation/](https://machinelearningmastery.com/how-to-configure-k-fold-cross-validation/).  \n",
        "\n",
        "* Gould, Elise, et al. “What Is the Gender Pay Gap and Is It Real?” *Economic Policy Institute*, 20 Oct. 2016, www.epi.org/publication/what-is-the-gender-pay-gap-and-is-it-real/. \n",
        "\n",
        "* Marques, Oge, and Christian Garbin. “IEEE ICMLA 2019 Data Science Tutorial.” *GitHub*, 10 Oct. 2020, [github.com/fau-masters-collected-works-cgarbin/ieee-icmla-2019-data-science-tutorial](https://github.com/fau-masters-collected-works-cgarbin/ieee-icmla-2019-data-science-tutorial). \n",
        "\n",
        "* “Sklearn.ensemble.randomforestclassifier.” *Scikit Learn*, [scikit-learn.org/stable/modules/generated/sklearn.ensemble.RandomForestClassifier.html](https://scikit-learn.org/stable/modules/generated/sklearn.ensemble.RandomForestClassifier.html). \n",
        "\n",
        "* “Sklearn.tree.decisiontreeclassifier.” *Scikit Learn*, [scikit-learn.org/stable/modules/generated/sklearn.tree.DecisionTreeClassifier.html](https://scikit-learn.org/stable/modules/generated/sklearn.tree.DecisionTreeClassifier.html). \n",
        "\n",
        "* “Sklearn.tree.export_text.” *Scikit Learn*, [scikit-learn.org/stable/modules/generated/sklearn.tree.export_text.html](https://scikit-learn.org/stable/modules/generated/sklearn.tree.export_text.html). \n",
        "\n",
        "* “Sklearn.model_selection.KFold.” *Scikit Learn*, [scikit-learn.org/stable/modules/generated/sklearn.model_selection.KFold.html](https://scikit-learn.org/stable/modules/generated/sklearn.model_selection.KFold.html). \n",
        "\n",
        "* Waskom, Michael. “Seaborn.heatmap.” *Seaborn.heatmap - Seaborn 0.11.1 Documentation*, [seaborn.pydata.org/generated/seaborn.heatmap.html](https://seaborn.pydata.org/generated/seaborn.heatmap.html). "
      ]
    }
  ]
}